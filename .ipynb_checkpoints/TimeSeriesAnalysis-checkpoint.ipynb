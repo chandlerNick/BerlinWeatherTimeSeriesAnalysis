{
 "cells": [
  {
   "cell_type": "markdown",
   "id": "6dae3ca9-a470-4451-bbfd-bdfb2f8059a5",
   "metadata": {},
   "source": [
    "# Time Series Analysis\n",
    "\n",
    "Here some methods in TSA are explored and utilized\n",
    "\n",
    "It requires that there are directories of csv files in /data containing all of the data that should be used."
   ]
  },
  {
   "cell_type": "code",
   "execution_count": null,
   "id": "e3c66c87-847d-434e-989c-2dd2e12e5661",
   "metadata": {},
   "outputs": [],
   "source": []
  },
  {
   "cell_type": "code",
   "execution_count": null,
   "id": "1c654f74-49bc-40ff-bc1d-6b7751aa648d",
   "metadata": {},
   "outputs": [],
   "source": []
  }
 ],
 "metadata": {
  "kernelspec": {
   "display_name": "Python 3 (ipykernel)",
   "language": "python",
   "name": "python3"
  },
  "language_info": {
   "codemirror_mode": {
    "name": "ipython",
    "version": 3
   },
   "file_extension": ".py",
   "mimetype": "text/x-python",
   "name": "python",
   "nbconvert_exporter": "python",
   "pygments_lexer": "ipython3",
   "version": "3.8.10"
  }
 },
 "nbformat": 4,
 "nbformat_minor": 5
}
