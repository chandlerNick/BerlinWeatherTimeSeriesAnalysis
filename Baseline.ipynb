{
 "cells": [
  {
   "cell_type": "markdown",
   "id": "1c1e7ebd",
   "metadata": {},
   "source": [
    "Baseline Evaluation for Weather Data\n",
    "\n",
    "- Done via an ARIMA model with HPO CV"
   ]
  },
  {
   "cell_type": "code",
   "execution_count": null,
   "id": "c5c691a1",
   "metadata": {},
   "outputs": [],
   "source": [
    "import pandas as pd\n",
    "import numpy as np\n",
    "import matplotlib.pyplot as plt\n",
    "from sklearn.metrics import mean_absolute_error, mean_squared_error\n",
    "from sklearn.preprocessing import MinMaxScaler\n",
    "from pmdarima.arima import ARIMA\n",
    "from pmdarima.model_selection import SlidingWindowForecastCV\n",
    "import optuna"
   ]
  },
  {
   "cell_type": "markdown",
   "id": "83bea41b",
   "metadata": {},
   "source": [
    "Read in & Preprocess data"
   ]
  },
  {
   "cell_type": "code",
   "execution_count": null,
   "id": "2a80e9db",
   "metadata": {},
   "outputs": [],
   "source": [
    "# Read in data\n",
    "years = [\"2024\"]\n",
    "columns = [\"ISO Time\", \"Temperature (C)\", \"Humidity (%)\", \"Pressure (kPa)\", \"Air Quality (Ohms)\"]\n",
    "all_data = pd.read_csv(\"./data/2023_BME680SensorData.csv\", usecols=columns)\n",
    "\n",
    "for year in years:\n",
    "    data_filename = f\"./data/{year}_BME680SensorData.csv\"\n",
    "    read_in_data = pd.read_csv(data_filename, usecols=columns)\n",
    "    all_data = pd.concat([all_data, read_in_data], ignore_index=True)\n",
    "\n",
    "print(\"Data Collected\")\n",
    "all_data.head()\n",
    "\n",
    "\n",
    "all_data[\"ISO Time\"] = pd.to_datetime(all_data[\"ISO Time\"])\n",
    "all_data.set_index(\"ISO Time\", inplace=True)\n",
    "hourly_avg = all_data.resample(\"H\").mean()"
   ]
  },
  {
   "cell_type": "markdown",
   "id": "745f2db2",
   "metadata": {},
   "source": [
    "Plot Data"
   ]
  },
  {
   "cell_type": "code",
   "execution_count": null,
   "id": "7a6bad48",
   "metadata": {},
   "outputs": [],
   "source": [
    "var_names = columns[1:]\n",
    "\n",
    "for variable in var_names:\n",
    "    plt.figure(figsize=(14, 5))\n",
    "    hourly_avg.plot(y=variable)\n",
    "    plt.title(f\"Hourly Average {variable}\")\n",
    "    plt.ylabel(variable)\n",
    "    plt.show()"
   ]
  },
  {
   "cell_type": "code",
   "execution_count": null,
   "id": "a1287883",
   "metadata": {},
   "outputs": [
    {
     "ename": "NameError",
     "evalue": "name 'hourly_avg' is not defined",
     "output_type": "error",
     "traceback": [
      "\u001b[31m---------------------------------------------------------------------------\u001b[39m",
      "\u001b[31mNameError\u001b[39m                                 Traceback (most recent call last)",
      "\u001b[36mCell\u001b[39m\u001b[36m \u001b[39m\u001b[32mIn[1]\u001b[39m\u001b[32m, line 1\u001b[39m\n\u001b[32m----> \u001b[39m\u001b[32m1\u001b[39m data = \u001b[43mhourly_avg\u001b[49m[\u001b[33m\"\u001b[39m\u001b[33mTemperature (C)\u001b[39m\u001b[33m\"\u001b[39m].dropna()\n\u001b[32m      2\u001b[39m scaler = MinMaxScaler()\n\u001b[32m      3\u001b[39m data_scaled = scaler.fit_transform(data.values.reshape(-\u001b[32m1\u001b[39m, \u001b[32m1\u001b[39m)).flatten()\n",
      "\u001b[31mNameError\u001b[39m: name 'hourly_avg' is not defined"
     ]
    }
   ],
   "source": [
    "data = hourly_avg[\"Temperature (C)\"].dropna()\n",
    "scaler = MinMaxScaler()\n",
    "data_scaled = scaler.fit_transform(data.values.reshape(-1, 1)).flatten()\n",
    "\n",
    "look_back = 168  # 7 days\n",
    "horizon = 24     # 1 day\n",
    "test_size = int(len(data_scaled) * 0.1)\n",
    "train_data = data_scaled[:-test_size]\n",
    "test_data = data_scaled[-test_size-look_back:]  # Include lookback for testing"
   ]
  },
  {
   "cell_type": "markdown",
   "id": "8c29f1c6",
   "metadata": {},
   "source": [
    "CV HPO"
   ]
  },
  {
   "cell_type": "code",
   "execution_count": null,
   "id": "d749503f",
   "metadata": {},
   "outputs": [],
   "source": [
    "def mean_absolute_percentage_error(y_true, y_pred):\n",
    "    y_true, y_pred = np.array(y_true), np.array(y_pred)\n",
    "    non_zero = y_true != 0\n",
    "    return np.mean(np.abs((y_true[non_zero] - y_pred[non_zero]) / y_true[non_zero])) * 100\n",
    "\n",
    "def objective(trial):\n",
    "    p = trial.suggest_int('p', 0, 5)\n",
    "    d = trial.suggest_int('d', 0, 2)\n",
    "    q = trial.suggest_int('q', 0, 5)\n",
    "\n",
    "    try:\n",
    "        model = ARIMA(order=(p, d, q), suppress_warnings=True)\n",
    "        cv = SlidingWindowForecastCV(window_size=look_back, step=24, h=horizon, initial=train_data.shape[0] - 7*horizon)\n",
    "        scores = []\n",
    "        for y_train_cv, y_test_cv in cv.split(train_data):\n",
    "            model.fit(y_train_cv)\n",
    "            y_pred_cv = model.predict(n_periods=len(y_test_cv))\n",
    "            score = mean_absolute_percentage_error(y_test_cv, y_pred_cv)\n",
    "            scores.append(score)\n",
    "        return np.mean(scores)\n",
    "    except Exception as e:\n",
    "        return float('inf')  # If model fails, return high loss"
   ]
  },
  {
   "cell_type": "code",
   "execution_count": null,
   "id": "880727d4",
   "metadata": {},
   "outputs": [],
   "source": [
    "study = optuna.create_study(direction=\"minimize\")\n",
    "study.optimize(objective, n_trials=25, timeout=600)\n",
    "\n",
    "print(\"Best ARIMA params:\", study.best_params)"
   ]
  },
  {
   "cell_type": "markdown",
   "id": "d9f6d89f",
   "metadata": {},
   "source": [
    "Best Model"
   ]
  },
  {
   "cell_type": "code",
   "execution_count": null,
   "id": "71ac116e",
   "metadata": {},
   "outputs": [],
   "source": [
    "# Retrain best ARIMA on full train set\n",
    "best_order = (study.best_params[\"p\"], study.best_params[\"d\"], study.best_params[\"q\"])\n",
    "model = ARIMA(order=best_order, suppress_warnings=True)\n",
    "model.fit(train_data)\n",
    "\n",
    "# Forecast next 24 hours using last 168-hour context in test set\n",
    "forecast = model.predict(n_periods=24)\n",
    "\n",
    "# Inverse transform to original scale\n",
    "forecast_inv = scaler.inverse_transform(forecast.reshape(-1, 1)).flatten()\n",
    "y_true_inv = scaler.inverse_transform(test_data[look_back:look_back+horizon].reshape(-1, 1)).flatten()"
   ]
  },
  {
   "cell_type": "markdown",
   "id": "6854b2ab",
   "metadata": {},
   "source": [
    "Evaluate and Plot Forecasts"
   ]
  },
  {
   "cell_type": "code",
   "execution_count": null,
   "id": "c8481f9e",
   "metadata": {},
   "outputs": [],
   "source": [
    "rmse = np.sqrt(mean_squared_error(y_true_inv, forecast_inv))\n",
    "mae = mean_absolute_error(y_true_inv, forecast_inv)\n",
    "mape = mean_absolute_percentage_error(y_true_inv, forecast_inv)\n",
    "\n",
    "print(f\"RMSE: {rmse:.4f}\")\n",
    "print(f\"MAE: {mae:.4f}\")\n",
    "print(f\"MAPE: {mape:.2f}%\")"
   ]
  },
  {
   "cell_type": "code",
   "execution_count": null,
   "id": "61fda063",
   "metadata": {},
   "outputs": [],
   "source": [
    "multi_forecast = []\n",
    "context = test_data[:look_back]\n",
    "\n",
    "for _ in range(7):\n",
    "    model = ARIMA(order=best_order, suppress_warnings=True)\n",
    "    model.fit(context)\n",
    "    pred = model.predict(n_periods=24)\n",
    "    multi_forecast.extend(pred)\n",
    "    context = np.append(context[24:], pred)\n",
    "\n",
    "multi_forecast_inv = scaler.inverse_transform(np.array(multi_forecast).reshape(-1, 1)).flatten()\n",
    "true_7day = scaler.inverse_transform(test_data[look_back:look_back+7*24].reshape(-1, 1)).flatten()\n",
    "\n",
    "# Plot\n",
    "plt.figure(figsize=(14, 6))\n",
    "plt.plot(data.index[-7*24:], true_7day, label=\"True\")\n",
    "plt.plot(data.index[-7*24:], multi_forecast_inv, label=\"7-Day Forecast\", linestyle=\"--\")\n",
    "plt.title(\"7-Day Forecast with ARIMA\")\n",
    "plt.xlabel(\"Time\")\n",
    "plt.ylabel(\"Temperature (C)\")\n",
    "plt.legend()\n",
    "plt.grid()\n",
    "plt.show()"
   ]
  }
 ],
 "metadata": {
  "kernelspec": {
   "display_name": ".dsw_env",
   "language": "python",
   "name": "python3"
  },
  "language_info": {
   "codemirror_mode": {
    "name": "ipython",
    "version": 3
   },
   "file_extension": ".py",
   "mimetype": "text/x-python",
   "name": "python",
   "nbconvert_exporter": "python",
   "pygments_lexer": "ipython3",
   "version": "3.11.9"
  }
 },
 "nbformat": 4,
 "nbformat_minor": 5
}
