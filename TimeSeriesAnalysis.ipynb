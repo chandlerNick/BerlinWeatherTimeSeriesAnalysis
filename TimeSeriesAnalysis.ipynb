{
 "cells": [
  {
   "cell_type": "markdown",
   "id": "6dae3ca9-a470-4451-bbfd-bdfb2f8059a5",
   "metadata": {},
   "source": [
    "# Time Series Analysis & Forecasting\n",
    "\n",
    "Here some methods in TSA/F are explored and utilized\n",
    "\n",
    "It requires that there are directories of csv files in /data containing all of the data that should be used."
   ]
  },
  {
   "cell_type": "code",
   "execution_count": 6,
   "id": "e3c66c87-847d-434e-989c-2dd2e12e5661",
   "metadata": {},
   "outputs": [],
   "source": [
    "# Imports\n",
    "import pandas as pd\n",
    "from statsmodels.tsa.ar_model import AutoReg\n",
    "from sklearn.model_selection import TimeSeriesSplit\n",
    "import matplotlib.pyplot as plt"
   ]
  },
  {
   "cell_type": "code",
   "execution_count": 7,
   "id": "1c654f74-49bc-40ff-bc1d-6b7751aa648d",
   "metadata": {},
   "outputs": [
    {
     "name": "stdout",
     "output_type": "stream",
     "text": [
      "Data Collected\n"
     ]
    },
    {
     "data": {
      "text/html": [
       "<div>\n",
       "<style scoped>\n",
       "    .dataframe tbody tr th:only-of-type {\n",
       "        vertical-align: middle;\n",
       "    }\n",
       "\n",
       "    .dataframe tbody tr th {\n",
       "        vertical-align: top;\n",
       "    }\n",
       "\n",
       "    .dataframe thead th {\n",
       "        text-align: right;\n",
       "    }\n",
       "</style>\n",
       "<table border=\"1\" class=\"dataframe\">\n",
       "  <thead>\n",
       "    <tr style=\"text-align: right;\">\n",
       "      <th></th>\n",
       "      <th>ISO Time</th>\n",
       "      <th>Temperature (C)</th>\n",
       "      <th>Humidity (%)</th>\n",
       "      <th>Pressure (kPa)</th>\n",
       "      <th>Air Quality (Ohms)</th>\n",
       "    </tr>\n",
       "  </thead>\n",
       "  <tbody>\n",
       "    <tr>\n",
       "      <th>0</th>\n",
       "      <td>2018-01-01 00:00:02</td>\n",
       "      <td>19.60</td>\n",
       "      <td>44.49</td>\n",
       "      <td>99.436</td>\n",
       "      <td>12946860.0</td>\n",
       "    </tr>\n",
       "    <tr>\n",
       "      <th>1</th>\n",
       "      <td>2018-01-01 00:01:02</td>\n",
       "      <td>19.61</td>\n",
       "      <td>44.46</td>\n",
       "      <td>99.435</td>\n",
       "      <td>12946860.0</td>\n",
       "    </tr>\n",
       "    <tr>\n",
       "      <th>2</th>\n",
       "      <td>2018-01-01 00:02:01</td>\n",
       "      <td>19.62</td>\n",
       "      <td>44.46</td>\n",
       "      <td>99.433</td>\n",
       "      <td>12946860.0</td>\n",
       "    </tr>\n",
       "    <tr>\n",
       "      <th>3</th>\n",
       "      <td>2018-01-01 00:03:02</td>\n",
       "      <td>19.63</td>\n",
       "      <td>44.39</td>\n",
       "      <td>99.425</td>\n",
       "      <td>12946860.0</td>\n",
       "    </tr>\n",
       "    <tr>\n",
       "      <th>4</th>\n",
       "      <td>2018-01-01 00:04:02</td>\n",
       "      <td>19.62</td>\n",
       "      <td>44.39</td>\n",
       "      <td>99.433</td>\n",
       "      <td>12946860.0</td>\n",
       "    </tr>\n",
       "  </tbody>\n",
       "</table>\n",
       "</div>"
      ],
      "text/plain": [
       "              ISO Time  Temperature (C)  Humidity (%)  Pressure (kPa)  \\\n",
       "0  2018-01-01 00:00:02            19.60         44.49          99.436   \n",
       "1  2018-01-01 00:01:02            19.61         44.46          99.435   \n",
       "2  2018-01-01 00:02:01            19.62         44.46          99.433   \n",
       "3  2018-01-01 00:03:02            19.63         44.39          99.425   \n",
       "4  2018-01-01 00:04:02            19.62         44.39          99.433   \n",
       "\n",
       "   Air Quality (Ohms)  \n",
       "0          12946860.0  \n",
       "1          12946860.0  \n",
       "2          12946860.0  \n",
       "3          12946860.0  \n",
       "4          12946860.0  "
      ]
     },
     "execution_count": 7,
     "metadata": {},
     "output_type": "execute_result"
    }
   ],
   "source": [
    "# Read in data\n",
    "years = [\"2019\", \"2020\", \"2021\", \"2022\", \"2023\", \"2024\"]\n",
    "columns = [\"ISO Time\", \"Temperature (C)\", \"Humidity (%)\", \"Pressure (kPa)\", \"Air Quality (Ohms)\"]\n",
    "all_data = pd.read_csv(\"./data/2018_BME680SensorData.csv\", usecols=columns)\n",
    "\n",
    "for year in years:\n",
    "    data_filename = f\"./data/{year}_BME680SensorData.csv\"\n",
    "    read_in_data = pd.read_csv(data_filename, usecols=columns)\n",
    "    all_data = pd.concat([all_data, read_in_data], ignore_index=True)\n",
    "\n",
    "print(\"Data Collected\")\n",
    "all_data.head()"
   ]
  },
  {
   "cell_type": "markdown",
   "id": "fe025a96-7128-41b0-a1bd-249234075453",
   "metadata": {},
   "source": [
    "### General Preprocessing"
   ]
  },
  {
   "cell_type": "code",
   "execution_count": 8,
   "id": "05a78f12-7754-4999-96c8-1480185c5cbf",
   "metadata": {},
   "outputs": [
    {
     "name": "stdout",
     "output_type": "stream",
     "text": [
      "             ISO Time  Temperature (C)  Humidity (%)  Pressure (kPa)  \\\n",
      "0 2018-01-01 00:00:02            19.60         44.49          99.436   \n",
      "1 2018-01-01 00:01:02            19.61         44.46          99.435   \n",
      "2 2018-01-01 00:02:01            19.62         44.46          99.433   \n",
      "3 2018-01-01 00:03:02            19.63         44.39          99.425   \n",
      "4 2018-01-01 00:04:02            19.62         44.39          99.433   \n",
      "\n",
      "   Air Quality (Ohms)  \n",
      "0          12946860.0  \n",
      "1          12946860.0  \n",
      "2          12946860.0  \n",
      "3          12946860.0  \n",
      "4          12946860.0  \n"
     ]
    }
   ],
   "source": [
    "# Preprocessing\n",
    "\n",
    "# Convert to date time\n",
    "all_data['ISO Time'] = pd.to_datetime(all_data['ISO Time'])\n",
    "all_data.set_index('ISO Time')\n",
    "\n",
    "# Assurance that there are datapoints from each year -- This may throw an error as more is added to the code base\n",
    "assert list(all_data['ISO Time'].dt.year.unique()) == [2018, 2019, 2020, 2021, 2022, 2023, 2024]\n",
    "\n",
    "# Number of observations\n",
    "len(all_data)\n",
    "\n",
    "print(all_data.head())"
   ]
  },
  {
   "cell_type": "markdown",
   "id": "a4cf156c-b9e3-4b79-a7c9-184bcafc772d",
   "metadata": {},
   "source": [
    "### Feature Expansion -- Computation of daily descriptive statistics"
   ]
  },
  {
   "cell_type": "code",
   "execution_count": 11,
   "id": "aa444993-ab89-4e0b-9b87-4d1c05683fea",
   "metadata": {},
   "outputs": [
    {
     "name": "stdout",
     "output_type": "stream",
     "text": [
      "Temperature Stats\n",
      "\n",
      "Number of observations 2498\n",
      "              min    max       mean  median       std\n",
      "ISO Time                                             \n",
      "2018-01-01  16.99  19.66  18.389903   18.34  0.685289\n",
      "2018-01-02  14.66  17.01  15.835549   15.88  0.580612\n",
      "2018-01-03  13.56  15.80  14.646667   14.65  0.507629\n",
      "2018-01-04  13.97  16.85  15.515403   15.58  0.918085\n",
      "2018-01-05  15.82  18.20  16.903662   17.00  0.367914\n",
      "\n",
      "Humidity Stats\n",
      "\n",
      "Number of observations 2498\n",
      "              min    max       mean  median       std\n",
      "ISO Time                                             \n",
      "2018-01-01  32.13  44.49  36.907361  35.135  3.784848\n",
      "2018-01-02  34.18  46.11  42.534833  43.950  3.395228\n",
      "2018-01-03  39.87  56.14  48.947486  50.325  5.883896\n",
      "2018-01-04  48.01  55.65  52.431951  53.550  2.577857\n",
      "2018-01-05  38.92  50.26  42.455638  40.735  3.551891\n",
      "\n",
      "Pressure Stats\n",
      "\n",
      "Number of observations 2498\n",
      "               min      max        mean    median       std\n",
      "ISO Time                                                   \n",
      "2018-01-01  99.398   99.889   99.725192   99.8010  0.150809\n",
      "2018-01-02  99.664  100.654  100.241512  100.3680  0.359614\n",
      "2018-01-03  98.025  100.259   98.622686   98.3390  0.609995\n",
      "2018-01-04  98.561   99.163   98.919586   98.9600  0.196637\n",
      "2018-01-05  98.604   99.855   99.264440   99.1585  0.369304\n",
      "\n",
      "Air Quality Stats\n",
      "\n",
      "Number of observations 2498\n",
      "                   min         max        mean      median  std\n",
      "ISO Time                                                       \n",
      "2018-01-01  12946860.0  12946860.0  12946860.0  12946860.0  0.0\n",
      "2018-01-02  12946860.0  12946860.0  12946860.0  12946860.0  0.0\n",
      "2018-01-03  12946860.0  12946860.0  12946860.0  12946860.0  0.0\n",
      "2018-01-04         NaN         NaN         NaN         NaN  NaN\n",
      "2018-01-05         NaN         NaN         NaN         NaN  NaN\n"
     ]
    }
   ],
   "source": [
    "grouped_data = all_data.groupby(all_data['ISO Time'].dt.date)\n",
    "\n",
    "# Temperature Celsius\n",
    "temperature_stats = grouped_data['Temperature (C)'].agg(\n",
    "    min='min',\n",
    "    max='max',\n",
    "    mean='mean',\n",
    "    median='median',\n",
    "    std='std'\n",
    ")\n",
    "temperature_stats.index = pd.to_datetime(temperature_stats.index)\n",
    "print(\"Temperature Stats\\n\")\n",
    "print(\"Number of observations\", len(temperature_stats))\n",
    "print(temperature_stats.head())\n",
    "\n",
    "# Humidity % moisture\n",
    "humidity_stats = grouped_data['Humidity (%)'].agg(\n",
    "    min='min',\n",
    "    max='max',\n",
    "    mean='mean',\n",
    "    median='median',\n",
    "    std='std'\n",
    ")\n",
    "humidity_stats.index = pd.to_datetime(humidity_stats.index)\n",
    "print(\"\\nHumidity Stats\\n\")\n",
    "print(\"Number of observations\", len(humidity_stats))\n",
    "print(humidity_stats.head())\n",
    "\n",
    "# Pressure kPa\n",
    "pressure_stats = grouped_data['Pressure (kPa)'].agg(\n",
    "    min='min',\n",
    "    max='max',\n",
    "    mean='mean',\n",
    "    median='median',\n",
    "    std='std'\n",
    ")\n",
    "pressure_stats.index = pd.to_datetime(pressure_stats.index)\n",
    "print(\"\\nPressure Stats\\n\")\n",
    "print(\"Number of observations\", len(pressure_stats))\n",
    "print(pressure_stats.head())\n",
    "\n",
    "# Air Quality Ohms\n",
    "airq_stats = grouped_data['Air Quality (Ohms)'].agg(\n",
    "    min='min',\n",
    "    max='max',\n",
    "    mean='mean',\n",
    "    median='median',\n",
    "    std='std'\n",
    ")\n",
    "airq_stats.index = pd.to_datetime(airq_stats.index)\n",
    "print(\"\\nAir Quality Stats\\n\")\n",
    "print(\"Number of observations\", len(airq_stats))\n",
    "print(airq_stats.head())\n",
    "\n",
    "list_of_dataframes = [temperature_stats, humidity_stats, pressure_stats, airq_stats]"
   ]
  },
  {
   "cell_type": "markdown",
   "id": "3fa41225-c1ac-40fc-adc4-240491eca52a",
   "metadata": {},
   "source": [
    "# Time Series Forecasting"
   ]
  },
  {
   "cell_type": "code",
   "execution_count": 26,
   "id": "3ba5c07a-43a2-4d6a-bc5d-8a6f814a85fc",
   "metadata": {},
   "outputs": [
    {
     "name": "stdout",
     "output_type": "stream",
     "text": [
      "Training data period: 2018-01-01 00:00:00 to 2023-12-31 00:00:00\n",
      "Test data period: 2024-01-01 00:00:00 to 2024-12-31 00:00:00\n"
     ]
    }
   ],
   "source": [
    "# Train - Test Split\n",
    "\n",
    "def ts_train_test_split(df):\n",
    "    return train, test\n",
    "\n",
    "# Temperature (C) medians\n",
    "temp_medians = temperature_stats['median']\n",
    "last_year = temp_medians.index.year.max()\n",
    "temperature_medians_test = temp_medians[temp_medians.index.year == last_year]\n",
    "temperature_medians_train = temp_medians[temp_medians.index.year < last_year]\n",
    "\n",
    "# Assurance that it is the final year\n",
    "print(f\"Training data period: {temperature_medians_train.index.min()} to {temperature_medians_train.index.max()}\")\n",
    "print(f\"Test data period: {temperature_medians_test.index.min()} to {temperature_medians_test.index.max()}\")\n",
    "\n",
    "\n"
   ]
  },
  {
   "cell_type": "markdown",
   "id": "87fb1345-f177-42ff-a53e-bd68d98f3b34",
   "metadata": {},
   "source": [
    "### Auto Regression (AR)"
   ]
  },
  {
   "cell_type": "code",
   "execution_count": null,
   "id": "7ff65792-6e3f-482e-904c-723103db446c",
   "metadata": {},
   "outputs": [],
   "source": []
  }
 ],
 "metadata": {
  "kernelspec": {
   "display_name": "Python 3 (ipykernel)",
   "language": "python",
   "name": "python3"
  },
  "language_info": {
   "codemirror_mode": {
    "name": "ipython",
    "version": 3
   },
   "file_extension": ".py",
   "mimetype": "text/x-python",
   "name": "python",
   "nbconvert_exporter": "python",
   "pygments_lexer": "ipython3",
   "version": "3.8.10"
  }
 },
 "nbformat": 4,
 "nbformat_minor": 5
}
